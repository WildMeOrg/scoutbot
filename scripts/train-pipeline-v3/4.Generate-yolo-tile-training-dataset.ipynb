{
 "cells": [
  {
   "cell_type": "code",
   "execution_count": 28,
   "metadata": {},
   "outputs": [],
   "source": [
    "import json\n",
    "import os\n",
    "\n",
    "import pandas as pd\n",
    "import shutil\n",
    "from tqdm.auto import tqdm"
   ]
  },
  {
   "cell_type": "code",
   "execution_count": 29,
   "metadata": {},
   "outputs": [],
   "source": [
    "def load_json(file_path):\n",
    "    with open(file_path) as f:\n",
    "        data = json.load(f)\n",
    "    return data\n",
    "\n",
    "def write_json(data, out_path):\n",
    "    json_object = json.dumps(data, indent=4)\n",
    "    with open(out_path, \"w\") as outfile:\n",
    "        outfile.write(json_object)\n",
    "        \n",
    "def export_annos(dfa, dfi, out_path, categories=[]):\n",
    "    print('out_path', out_path)\n",
    "    print('shapes: ', dfa.shape, dfi.shape)\n",
    "    annos_list = dfa.to_dict(orient='records')\n",
    "    images_list = dfi.to_dict(orient='records')\n",
    "\n",
    "    data = {\n",
    "        'info':{},\n",
    "        'licenses':[],\n",
    "        'images':images_list,\n",
    "        'annotations':annos_list,\n",
    "        'categories':categories\n",
    "           }\n",
    "    write_json(data, out_path)\n",
    "\n",
    "    return out_path"
   ]
  },
  {
   "cell_type": "code",
   "execution_count": 30,
   "metadata": {},
   "outputs": [],
   "source": [
    "def load_and_sample_tiles(data, n_negative_samples=1000):\n",
    "\n",
    "    dfa = pd.DataFrame(data['annotations'])\n",
    "    dfi = pd.DataFrame(data['images'])\n",
    "\n",
    "    categories = data['categories']\n",
    "    cat_map = {item['id']: item['name'] for item in categories}\n",
    "    dfa['species'] = dfa['category_id'].map(cat_map)\n",
    "\n",
    "\n",
    "    annot_img_ids = set(dfa['image_id'].unique())\n",
    "\n",
    "    empty_ids = []\n",
    "    for x in tqdm(dfi['id']):\n",
    "        if x not in annot_img_ids:\n",
    "            empty_ids.append(x)\n",
    "\n",
    "    print('Number of non-empty tiles:', len(dfi) - len(empty_ids))\n",
    "    print('Number of empty tiles:', len(empty_ids))\n",
    "\n",
    "    dfi_p = dfi[~dfi['id'].isin(empty_ids)]\n",
    "    dfi_n = dfi[dfi['id'].isin(empty_ids)]\n",
    "\n",
    "    dfi_ns = dfi_n.sample(n=n_negative_samples, random_state=0)\n",
    "    dfi_s = pd.concat([dfi_p, dfi_ns])\n",
    "\n",
    "    print(f\"Sampled {len(dfi_p)} positive tiles and {len(dfi_ns)} negative tiles. Total: {len(dfi_s)}\")\n",
    "\n",
    "    return dfa, dfi_s"
   ]
  },
  {
   "cell_type": "code",
   "execution_count": null,
   "metadata": {},
   "outputs": [],
   "source": []
  },
  {
   "cell_type": "markdown",
   "metadata": {},
   "source": [
    "# Convert test to yolo format\n",
    "\n",
    "- NOTE: Everything below is for the test (val) set. The same must be repeated for the training set."
   ]
  },
  {
   "cell_type": "code",
   "execution_count": null,
   "metadata": {},
   "outputs": [],
   "source": []
  },
  {
   "cell_type": "markdown",
   "metadata": {},
   "source": [
    "### Convert to JSON format first that will work with yolo converter"
   ]
  },
  {
   "cell_type": "code",
   "execution_count": 31,
   "metadata": {},
   "outputs": [
    {
     "data": {
      "application/vnd.jupyter.widget-view+json": {
       "model_id": "16d34ce9c48a4af5aabe46d61315946a",
       "version_major": 2,
       "version_minor": 0
      },
      "text/plain": [
       "  0%|          | 0/216648 [00:00<?, ?it/s]"
      ]
     },
     "metadata": {},
     "output_type": "display_data"
    },
    {
     "name": "stdout",
     "output_type": "stream",
     "text": [
      "Number of non-empty tiles: 2773\n",
      "Number of empty tiles: 213875\n",
      "Sampled 2773 positive tiles and 500 negative tiles. Total: 3273\n"
     ]
    }
   ],
   "source": [
    "# Recommended to experiment with ~10-25% negative tiles. \n",
    "# More negative tiles should make the model less prone to false positives at the cost of recall\n",
    "# (Actual effect and magnitude to be determined)\n",
    "\n",
    "n_val_negative_tiles = 500\n",
    "\n",
    "\n",
    "images_dir = '/media/l3404/Mate/kaza_files/slice_kaza_val-25'\n",
    "anno_path ='/media/l3404/Mate/kaza_files/slice_kaza_val-25/slice_kaza_val-25_coco.json'\n",
    "\n",
    "# images_dir = '/mnt/space/space-home/wild-me/kaza/slice_kaza_val_v0/'\n",
    "# anno_path = '/mnt/space/space-home/wild-me/kaza/slice_kaza_val_v0/slice_kaza_val_v0.json'\n",
    "\n",
    "dfas = []\n",
    "dfis = []\n",
    "data = load_json(anno_path)\n",
    "dfa, dfi_s = load_and_sample_tiles(data, n_negative_samples=n_val_negative_tiles)\n",
    "dfa['anno_path'] = anno_path\n",
    "dfi_s['anno_path'] = anno_path\n",
    "dfi_s['images_dir'] = images_dir\n",
    "dfas.append(dfa)\n",
    "dfis.append(dfi_s)\n",
    "\n",
    "dfa = pd.concat(dfas)\n",
    "dfi = pd.concat(dfis)"
   ]
  },
  {
   "cell_type": "code",
   "execution_count": null,
   "metadata": {},
   "outputs": [],
   "source": []
  },
  {
   "cell_type": "code",
   "execution_count": null,
   "metadata": {},
   "outputs": [],
   "source": []
  },
  {
   "cell_type": "code",
   "execution_count": null,
   "metadata": {},
   "outputs": [],
   "source": []
  },
  {
   "cell_type": "code",
   "execution_count": 26,
   "metadata": {},
   "outputs": [],
   "source": [
    "# Note: Folders should be different for val and train\n",
    "\n",
    "out_dir = '/mnt/space/space-home/wild-me/kaza/exp_dirs/kaza_v0_val'\n",
    "os.makedirs(out_dir, exist_ok=False)"
   ]
  },
  {
   "cell_type": "code",
   "execution_count": 34,
   "metadata": {},
   "outputs": [
    {
     "data": {
      "text/plain": [
       "(1, 46)"
      ]
     },
     "execution_count": 34,
     "metadata": {},
     "output_type": "execute_result"
    }
   ],
   "source": [
    "# Necessary to bump category ids by 1 \n",
    "# as conversion to yolo will subtract 1 from category_id\n",
    "\n",
    "dfa['category_id'] = dfa['category_id'] + 1\n",
    "\n",
    "categories = data['categories']\n",
    "categories = [{'id':item['id'] + 1, 'name':item['name'], 'supercategory': ''} for item in categories]\n",
    "\n",
    "dfa['category_id'].min(), dfa['category_id'].max()"
   ]
  },
  {
   "cell_type": "code",
   "execution_count": null,
   "metadata": {},
   "outputs": [],
   "source": []
  },
  {
   "cell_type": "code",
   "execution_count": 35,
   "metadata": {},
   "outputs": [],
   "source": [
    "dfa = dfa.reset_index(drop=True)\n",
    "dfi = dfi.reset_index(drop=True)"
   ]
  },
  {
   "cell_type": "code",
   "execution_count": 41,
   "metadata": {},
   "outputs": [
    {
     "name": "stdout",
     "output_type": "stream",
     "text": [
      "out_path /mnt/space/space-home/wild-me/kaza/exp_dirs/kaza_v0_val/kaza_v0.json\n",
      "shapes:  (5230, 9) (3273, 6)\n"
     ]
    }
   ],
   "source": [
    "# Modify json file name at will\n",
    "train_coco_path = export_annos(dfa, dfi, os.path.join(out_dir, 'kaza_v0.json'), categories)"
   ]
  },
  {
   "cell_type": "code",
   "execution_count": 42,
   "metadata": {},
   "outputs": [
    {
     "name": "stdout",
     "output_type": "stream",
     "text": [
      "out_path /mnt/space/space-home/wild-me/kaza/exp_dirs/kaza_v0_val/kaza_v0_onecat.json\n",
      "shapes:  (5230, 9) (3273, 6)\n"
     ]
    }
   ],
   "source": [
    "dfa_onecat = dfa.copy()\n",
    "dfa_onecat['category_id'] = 1\n",
    "\n",
    "train_coco_path_onecat = export_annos(dfa_onecat, dfi, os.path.join(out_dir, 'kaza_v0_onecat.json'), categories)"
   ]
  },
  {
   "cell_type": "code",
   "execution_count": null,
   "metadata": {},
   "outputs": [],
   "source": []
  },
  {
   "cell_type": "markdown",
   "metadata": {},
   "source": []
  },
  {
   "cell_type": "code",
   "execution_count": 46,
   "metadata": {},
   "outputs": [
    {
     "name": "stderr",
     "output_type": "stream",
     "text": [
      "Annotations /mnt/space/space-home/wild-me/kaza/exp_dirs/kaza_v0_val/kaza_v0.json"
     ]
    },
    {
     "name": "stderr",
     "output_type": "stream",
     "text": [
      "Annotations /mnt/space/space-home/wild-me/kaza/exp_dirs/kaza_v0_val/kaza_v0.json\n",
      "Annotations /mnt/space/space-home/wild-me/kaza/exp_dirs/kaza_v0_val/kaza_v0_onec"
     ]
    },
    {
     "name": "stdout",
     "output_type": "stream",
     "text": [
      "COCO data converted successfully.\n",
      "Results saved to /mnt/space/space-home/wild-me/kaza/exp_dirs/kaza_v0_val/coco_converted\n"
     ]
    },
    {
     "name": "stderr",
     "output_type": "stream",
     "text": [
      "\n"
     ]
    }
   ],
   "source": [
    "import ultralytics\n",
    "\n",
    "labels_dir = out_dir\n",
    "\n",
    "ultralytics.data.converter.convert_coco(labels_dir=labels_dir, save_dir=f'{out_dir}/coco_converted/', use_segments=False, use_keypoints=False, cls91to80=False)"
   ]
  },
  {
   "cell_type": "code",
   "execution_count": null,
   "metadata": {},
   "outputs": [],
   "source": []
  },
  {
   "cell_type": "markdown",
   "metadata": {},
   "source": [
    "### Fill in the data directory (repeat for training set)"
   ]
  },
  {
   "cell_type": "code",
   "execution_count": null,
   "metadata": {},
   "outputs": [],
   "source": [
    "### Data folder for test set 'kaza_v0_val' (should have similar one for the train set) generated from above\n",
    "# This process should be repeated for the trainin 'data_folder'\n",
    "data_folder = '/mnt/space/space-home/wild-me/kaza/exp_dirs/kaza_v0_val'"
   ]
  },
  {
   "cell_type": "code",
   "execution_count": 54,
   "metadata": {},
   "outputs": [
    {
     "name": "stdout",
     "output_type": "stream",
     "text": [
      "\u001b[01;34m/mnt/space/space-home/wild-me/kaza/exp_dirs/kaza_v0_val\u001b[0m\n",
      "└── \u001b[01;34mcoco_converted\u001b[0m\n",
      "    ├── \u001b[01;34mimages\u001b[0m\n",
      "    └── \u001b[01;34mlabels\u001b[0m\n",
      "        ├── \u001b[01;34mkaza_v0\u001b[0m\n",
      "        └── \u001b[01;34mkaza_v0_onecat\u001b[0m\n",
      "\n",
      "5 directories\n"
     ]
    }
   ],
   "source": [
    "# '/labels' is where the .txt labels for yolo format are stored\n",
    "# Regular is for multi-class labels, 'onecat' is all labels mapped to the same class \n",
    "\n",
    "\n",
    "!tree -d {data_folder}"
   ]
  },
  {
   "cell_type": "code",
   "execution_count": 57,
   "metadata": {},
   "outputs": [],
   "source": []
  },
  {
   "cell_type": "code",
   "execution_count": 55,
   "metadata": {},
   "outputs": [],
   "source": [
    "# Make a new 'active' subfolder in the data folder\n",
    "\n",
    "os.makedirs(f'{data_folder}/active')\n",
    "os.makedirs(f'{data_folder}/active/labels')\n",
    "os.makedirs(f'{data_folder}/active/images')\n"
   ]
  },
  {
   "cell_type": "code",
   "execution_count": 59,
   "metadata": {},
   "outputs": [
    {
     "name": "stdout",
     "output_type": "stream",
     "text": [
      "\u001b[01;34m/mnt/space/space-home/wild-me/kaza/exp_dirs/kaza_v0_val\u001b[0m\n",
      "├── \u001b[01;34mactive\u001b[0m\n",
      "│   ├── \u001b[01;34mimages\u001b[0m\n",
      "│   └── \u001b[01;34mlabels\u001b[0m\n",
      "└── \u001b[01;34mcoco_converted\u001b[0m\n",
      "    ├── \u001b[01;34mimages\u001b[0m\n",
      "    └── \u001b[01;34mlabels\u001b[0m\n",
      "        ├── \u001b[01;34mkaza_v0\u001b[0m\n",
      "        └── \u001b[01;34mkaza_v0_onecat\u001b[0m\n",
      "\n",
      "8 directories\n"
     ]
    }
   ],
   "source": [
    "!tree -d {data_folder}"
   ]
  },
  {
   "cell_type": "code",
   "execution_count": 62,
   "metadata": {},
   "outputs": [
    {
     "data": {
      "text/plain": [
       "'/mnt/space/space-home/wild-me/kaza/exp_dirs/kaza_v0_val/active/labels/kaza_v0_onecat'"
      ]
     },
     "execution_count": 62,
     "metadata": {},
     "output_type": "execute_result"
    }
   ],
   "source": [
    "# Move either multiclass or oneclass labels from 'coco_converted' to 'active'\n",
    "\n",
    "source_labels = f'{data_folder}/coco_converted/labels/kaza_v0_onecat'\n",
    "destination_labels = f'{data_folder}/active/labels/kaza_v0_onecat'\n",
    "\n",
    "shutil.copytree(source_labels, destination_labels)"
   ]
  },
  {
   "cell_type": "code",
   "execution_count": 63,
   "metadata": {},
   "outputs": [
    {
     "name": "stdout",
     "output_type": "stream",
     "text": [
      "\u001b[01;34m/mnt/space/space-home/wild-me/kaza/exp_dirs/kaza_v0_val\u001b[0m\n",
      "├── \u001b[01;34mactive\u001b[0m\n",
      "│   ├── \u001b[01;34mimages\u001b[0m\n",
      "│   └── \u001b[01;34mlabels\u001b[0m\n",
      "│       └── \u001b[01;34mkaza_v0_onecat\u001b[0m\n",
      "└── \u001b[01;34mcoco_converted\u001b[0m\n",
      "    ├── \u001b[01;34mimages\u001b[0m\n",
      "    └── \u001b[01;34mlabels\u001b[0m\n",
      "        ├── \u001b[01;34mkaza_v0\u001b[0m\n",
      "        └── \u001b[01;34mkaza_v0_onecat\u001b[0m\n",
      "\n",
      "9 directories\n"
     ]
    }
   ],
   "source": [
    "# Copied labels folder should show up under /active/labels\n",
    "!tree -d {data_folder}"
   ]
  },
  {
   "cell_type": "code",
   "execution_count": null,
   "metadata": {},
   "outputs": [],
   "source": [
    "# Also move the tile images folder created from Notebook 3"
   ]
  },
  {
   "cell_type": "code",
   "execution_count": 65,
   "metadata": {},
   "outputs": [
    {
     "data": {
      "text/plain": [
       "'/mnt/space/space-home/wild-me/kaza/exp_dirs/kaza_v0_val/active/images/kaza_v0_onecat'"
      ]
     },
     "execution_count": 65,
     "metadata": {},
     "output_type": "execute_result"
    }
   ],
   "source": [
    "# Source should be coming from output_dir of the notebook 3\n",
    "\n",
    "source_images = '/mnt/space/space-home/wild-me/kaza/slice_kaza_val_v0'\n",
    "destination_images = f'{data_folder}/active/images/kaza_v0_onecat'\n",
    "\n",
    "shutil.copytree(source_images, destination_images)"
   ]
  },
  {
   "cell_type": "code",
   "execution_count": 66,
   "metadata": {},
   "outputs": [
    {
     "name": "stdout",
     "output_type": "stream",
     "text": [
      "\u001b[01;34m/mnt/space/space-home/wild-me/kaza/exp_dirs/kaza_v0_val\u001b[0m\n",
      "├── \u001b[01;34mactive\u001b[0m\n",
      "│   ├── \u001b[01;34mimages\u001b[0m\n",
      "│   │   └── \u001b[01;34mkaza_v0_onecat\u001b[0m\n",
      "│   └── \u001b[01;34mlabels\u001b[0m\n",
      "│       └── \u001b[01;34mkaza_v0_onecat\u001b[0m\n",
      "└── \u001b[01;34mcoco_converted\u001b[0m\n",
      "    ├── \u001b[01;34mimages\u001b[0m\n",
      "    └── \u001b[01;34mlabels\u001b[0m\n",
      "        ├── \u001b[01;34mkaza_v0\u001b[0m\n",
      "        └── \u001b[01;34mkaza_v0_onecat\u001b[0m\n",
      "\n",
      "10 directories\n"
     ]
    }
   ],
   "source": [
    "# This is what the final directory tree should look like for the dataset (repeat the same for train set)\n",
    "\n",
    "!tree -d {data_folder}"
   ]
  },
  {
   "cell_type": "code",
   "execution_count": null,
   "metadata": {},
   "outputs": [],
   "source": []
  },
  {
   "cell_type": "code",
   "execution_count": null,
   "metadata": {},
   "outputs": [],
   "source": []
  },
  {
   "cell_type": "markdown",
   "metadata": {},
   "source": [
    "# TODO: repeate the above steps for the training set before proceeding to final section\n",
    "\n",
    "- Note: After repeating for the train set, (and optional holdout set) should be left with two folders - one for train and one for test. (Hint: this line should be different for train and test - `out_dir = '/mnt/space/space-home/wild-me/kaza/exp_dirs/kaza_v0_val'`)"
   ]
  },
  {
   "cell_type": "markdown",
   "metadata": {},
   "source": [
    "### This is what kind of config.yaml you should create after this subsection\n",
    "\n",
    "```\n",
    "\n",
    "\n",
    "# YOLOv5 🚀 by Ultralytics, AGPL-3.0 license\n",
    "# COCO128 dataset https://www.kaggle.com/ultralytics/coco128 (first 128 images from COCO train2017) by Ultralytics\n",
    "# Example usage: python train.py --data coco128.yaml\n",
    "# parent\n",
    "# ├── yolov5\n",
    "# └── datasets\n",
    "#     └── coco128  ← downloads here (7 MB)\n",
    "#\n",
    "\n",
    "# Train/val/test sets as 1) dir: path/to/imgs, 2) file: path/to/imgs.txt, or 3) list: [path/to/imgs1, path/to/imgs2, ..]\n",
    "train: \n",
    " - '/mnt/space/space-home/wild-me/kaza/exp_dirs/kaza_full_round1/active/images/kaza_full_round1_onecat'\n",
    "val: /mnt/space/space-home/wild-me/kaza/exp_dirs/kaza_val/active/images/kaza_val_onecat\n",
    "\n",
    "# Classes\n",
    "names:\n",
    "  # TO BE FILLED IN THE NEXT SUB-SECTION\n",
    "  ```"
   ]
  },
  {
   "cell_type": "code",
   "execution_count": null,
   "metadata": {},
   "outputs": [],
   "source": []
  },
  {
   "cell_type": "code",
   "execution_count": null,
   "metadata": {},
   "outputs": [],
   "source": []
  },
  {
   "cell_type": "markdown",
   "metadata": {},
   "source": [
    "# Final section: Create yolov8 yaml file (maual step)"
   ]
  },
  {
   "cell_type": "markdown",
   "metadata": {},
   "source": [
    "### Fill in the classes mapping"
   ]
  },
  {
   "cell_type": "code",
   "execution_count": null,
   "metadata": {},
   "outputs": [
    {
     "data": {
      "text/plain": [
       "red lechwe          2069\n",
       "elephant            1178\n",
       "buffalo              411\n",
       "impala               319\n",
       "zebra                205\n",
       "wildebeest           149\n",
       "kudu                 112\n",
       "giraffe              110\n",
       "puku                  79\n",
       "white_bones           64\n",
       "baboon                64\n",
       "reedbuck              59\n",
       "topi                  58\n",
       "bird                  54\n",
       "sable                 53\n",
       "unknown antelope      41\n",
       "waterbuck             34\n",
       "unknown mammal        34\n",
       "hartebeest            25\n",
       "warthog               21\n",
       "roan                  18\n",
       "crocodile             18\n",
       "sitatunga              8\n",
       "hippo                  8\n",
       "ec4                    7\n",
       "steenbok               6\n",
       "eland                  4\n",
       "vervet monkey          4\n",
       "canoe                  3\n",
       "duiker                 3\n",
       "bushpig                3\n",
       "ostrich                3\n",
       "unknown animal         2\n",
       "unknown carcass        2\n",
       "ec3                    2\n",
       "Name: species, dtype: int64"
      ]
     },
     "metadata": {},
     "output_type": "display_data"
    }
   ],
   "source": [
    "dfa['species'].value_counts()"
   ]
  },
  {
   "cell_type": "code",
   "execution_count": null,
   "metadata": {},
   "outputs": [
    {
     "name": "stdout",
     "output_type": "stream",
     "text": [
      "0 : baboon\n",
      "1 : bird\n",
      "2 : buffalo\n",
      "3 : bushpig\n",
      "4 : canoe\n",
      "5 : car\n",
      "6 : crocodile\n",
      "7 : duiker\n",
      "8 : ec3\n",
      "9 : ec4\n",
      "10 : eland\n",
      "11 : elephant\n",
      "12 : elephant bull\n",
      "13 : gazelle_thomsons\n",
      "14 : giraffe\n",
      "15 : hartebeest\n",
      "16 : hippo\n",
      "17 : hyena\n",
      "18 : impala\n",
      "19 : kob\n",
      "20 : kudu\n",
      "21 : lion\n",
      "22 : ostrich\n",
      "23 : puku\n",
      "24 : red lechwe\n",
      "25 : reedbuck\n",
      "26 : roan\n",
      "27 : roof_mabati\n",
      "28 : sable\n",
      "29 : sheep\n",
      "30 : sitatunga\n",
      "31 : steenbok\n",
      "32 : topi\n",
      "33 : unknown animal\n",
      "34 : unknown antelope\n",
      "35 : unknown carcass\n",
      "36 : unknown mammal\n",
      "37 : unknown_carcas\n",
      "38 : unknown_carcass\n",
      "39 : vervet monkey\n",
      "40 : warthog\n",
      "41 : waterbuck\n",
      "42 : white_bones\n",
      "43 : wild dog\n",
      "44 : wildebeest\n",
      "45 : zebra\n"
     ]
    }
   ],
   "source": [
    "# This category mapping can be copied into yolo config.yaml\n",
    "for cat in data['categories']:\n",
    "    print(cat['id'],':', cat['name'])"
   ]
  },
  {
   "cell_type": "markdown",
   "metadata": {},
   "source": [
    "### This is what config.yaml should look like at the end\n",
    "\n",
    "- Note: The train and val point to /images/{folder_name} subfolder of the dataset folder. The script fill attempt to navigate around this folder to find labels in the parent folder.\n",
    "\n",
    "```\n",
    "\n",
    "\n",
    "# YOLOv5 🚀 by Ultralytics, AGPL-3.0 license\n",
    "# COCO128 dataset https://www.kaggle.com/ultralytics/coco128 (first 128 images from COCO train2017) by Ultralytics\n",
    "# Example usage: python train.py --data coco128.yaml\n",
    "# parent\n",
    "# ├── yolov5\n",
    "# └── datasets\n",
    "#     └── coco128  ← downloads here (7 MB)\n",
    "#\n",
    "\n",
    "# Train/val/test sets as 1) dir: path/to/imgs, 2) file: path/to/imgs.txt, or 3) list: [path/to/imgs1, path/to/imgs2, ..]\n",
    "train: \n",
    " - /mnt/space/space-home/wild-me/kaza/exp_dirs/kaza_v0_train/active/images/kaza_v0_onecat\n",
    "val: /mnt/space/space-home/wild-me/kaza/exp_dirs/kaza_v0_val/active/images/kaza_v0_onecat\n",
    "\n",
    "# Classes\n",
    "names:\n",
    "  0 : baboon\n",
    "  1 : bird\n",
    "  2 : buffalo\n",
    "  3 : bushpig\n",
    "  4 : canoe\n",
    "  5 : car\n",
    "  6 : crocodile\n",
    "  7 : duiker\n",
    "  8 : ec3\n",
    "  9 : ec4\n",
    "  10 : elephant\n",
    "  11 : elephant bull\n",
    "  12 : gazelle_thomsons\n",
    "  13 : giraffe\n",
    "  14 : hartebeest\n",
    "  15 : hippo\n",
    "  16 : hyena\n",
    "  17 : impala\n",
    "  18 : kob\n",
    "  19 : kudu\n",
    "  20 : lion\n",
    "  21 : ostrich\n",
    "  22 : puku\n",
    "  23 : red lechwe\n",
    "  24 : reedbuck\n",
    "  25 : roan\n",
    "  26 : roof_mabati\n",
    "  27 : sable\n",
    "  28 : sheep\n",
    "  29 : sitatunga\n",
    "  30 : steenbok\n",
    "  31 : topi\n",
    "  32 : unknown animal\n",
    "  33 : unknown antelope\n",
    "  34 : unknown carcass\n",
    "  35 : unknown mammal\n",
    "  36 : unknown_carcas\n",
    "  37 : unknown_carcass\n",
    "  38 : vervet monkey\n",
    "  39 : warthog\n",
    "  40 : waterbuck\n",
    "  41 : white_bones\n",
    "  42 : wild dog\n",
    "  43 : wildebeest\n",
    "  44 : zebra\n",
    "\n",
    "\n",
    "```"
   ]
  },
  {
   "cell_type": "code",
   "execution_count": null,
   "metadata": {},
   "outputs": [],
   "source": []
  },
  {
   "cell_type": "markdown",
   "metadata": {},
   "source": []
  }
 ],
 "metadata": {
  "kernelspec": {
   "display_name": "Python 3 (ipykernel)",
   "language": "python",
   "name": "python3"
  },
  "language_info": {
   "codemirror_mode": {
    "name": "ipython",
    "version": 3
   },
   "file_extension": ".py",
   "mimetype": "text/x-python",
   "name": "python",
   "nbconvert_exporter": "python",
   "pygments_lexer": "ipython3",
   "version": "3.8.5"
  }
 },
 "nbformat": 4,
 "nbformat_minor": 2
}
